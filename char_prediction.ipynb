{
 "cells": [
  {
   "cell_type": "code",
   "execution_count": 65,
   "metadata": {},
   "outputs": [],
   "source": [
    "import tensorflow as tf\n",
    "import numpy as np\n",
    "import random\n",
    "import matplotlib.pyplot as plt\n",
    "%matplotlib inline"
   ]
  },
  {
   "cell_type": "code",
   "execution_count": 9,
   "metadata": {},
   "outputs": [],
   "source": [
    "data = open('kafka.txt').read()\n",
    "chars = list(set(data))\n",
    "present_char = len(data)\n",
    "unique_chars_length = len(chars)"
   ]
  },
  {
   "cell_type": "code",
   "execution_count": 11,
   "metadata": {},
   "outputs": [
    {
     "name": "stdout",
     "output_type": "stream",
     "text": [
      "137629 81\n"
     ]
    }
   ],
   "source": [
    "print(present_char,unique_chars_length)"
   ]
  },
  {
   "cell_type": "code",
   "execution_count": 14,
   "metadata": {
    "collapsed": true
   },
   "outputs": [],
   "source": [
    "id_2_char = dict((c,i) for c,i in enumerate(chars))\n",
    "char_2_id = dict((i,c) for c,i in enumerate(chars))"
   ]
  },
  {
   "cell_type": "code",
   "execution_count": 17,
   "metadata": {},
   "outputs": [],
   "source": [
    "def one_hot_encoder(char):\n",
    "    vector = np.zeros(shape=[unique_chars_length])\n",
    "    vector[char_2_id[char]] = 1\n",
    "    return vector"
   ]
  },
  {
   "cell_type": "code",
   "execution_count": 95,
   "metadata": {
    "collapsed": true
   },
   "outputs": [],
   "source": [
    "traning_data = []"
   ]
  },
  {
   "cell_type": "code",
   "execution_count": 96,
   "metadata": {},
   "outputs": [],
   "source": [
    "for char in data:\n",
    "    traning_data.append(one_hot_encoder(char))"
   ]
  },
  {
   "cell_type": "code",
   "execution_count": 51,
   "metadata": {
    "scrolled": true
   },
   "outputs": [
    {
     "data": {
      "text/plain": [
       "[<matplotlib.lines.Line2D at 0x2872800ce48>,\n",
       " <matplotlib.lines.Line2D at 0x28728014080>,\n",
       " <matplotlib.lines.Line2D at 0x28728014278>,\n",
       " <matplotlib.lines.Line2D at 0x28728014470>,\n",
       " <matplotlib.lines.Line2D at 0x28728014668>,\n",
       " <matplotlib.lines.Line2D at 0x28728014860>,\n",
       " <matplotlib.lines.Line2D at 0x28728014a58>,\n",
       " <matplotlib.lines.Line2D at 0x28728014c50>,\n",
       " <matplotlib.lines.Line2D at 0x28728014e48>,\n",
       " <matplotlib.lines.Line2D at 0x28728019080>,\n",
       " <matplotlib.lines.Line2D at 0x28727fc9dd8>,\n",
       " <matplotlib.lines.Line2D at 0x28728019438>,\n",
       " <matplotlib.lines.Line2D at 0x28728019630>,\n",
       " <matplotlib.lines.Line2D at 0x28728019828>,\n",
       " <matplotlib.lines.Line2D at 0x28728019a20>,\n",
       " <matplotlib.lines.Line2D at 0x28728019c18>,\n",
       " <matplotlib.lines.Line2D at 0x28728019e10>,\n",
       " <matplotlib.lines.Line2D at 0x28728019fd0>,\n",
       " <matplotlib.lines.Line2D at 0x2872801f240>,\n",
       " <matplotlib.lines.Line2D at 0x2872801f438>,\n",
       " <matplotlib.lines.Line2D at 0x2872801f630>,\n",
       " <matplotlib.lines.Line2D at 0x2872801f828>,\n",
       " <matplotlib.lines.Line2D at 0x2872801fa20>,\n",
       " <matplotlib.lines.Line2D at 0x2872801fc18>,\n",
       " <matplotlib.lines.Line2D at 0x2872801fe10>,\n",
       " <matplotlib.lines.Line2D at 0x2872801ffd0>,\n",
       " <matplotlib.lines.Line2D at 0x28728027240>,\n",
       " <matplotlib.lines.Line2D at 0x28728027438>,\n",
       " <matplotlib.lines.Line2D at 0x28728027630>,\n",
       " <matplotlib.lines.Line2D at 0x28728027828>,\n",
       " <matplotlib.lines.Line2D at 0x28728027a20>,\n",
       " <matplotlib.lines.Line2D at 0x28728027c18>,\n",
       " <matplotlib.lines.Line2D at 0x28728027e10>,\n",
       " <matplotlib.lines.Line2D at 0x28728027fd0>,\n",
       " <matplotlib.lines.Line2D at 0x2872802e240>,\n",
       " <matplotlib.lines.Line2D at 0x2872802e438>,\n",
       " <matplotlib.lines.Line2D at 0x2872802e630>,\n",
       " <matplotlib.lines.Line2D at 0x2872802e828>,\n",
       " <matplotlib.lines.Line2D at 0x2872802ea20>,\n",
       " <matplotlib.lines.Line2D at 0x2872802ec18>,\n",
       " <matplotlib.lines.Line2D at 0x2872802ee10>,\n",
       " <matplotlib.lines.Line2D at 0x2872802efd0>,\n",
       " <matplotlib.lines.Line2D at 0x2872d681240>,\n",
       " <matplotlib.lines.Line2D at 0x2872d681438>,\n",
       " <matplotlib.lines.Line2D at 0x2872d681630>,\n",
       " <matplotlib.lines.Line2D at 0x2872d681828>,\n",
       " <matplotlib.lines.Line2D at 0x2872d681a20>,\n",
       " <matplotlib.lines.Line2D at 0x2872d681c18>,\n",
       " <matplotlib.lines.Line2D at 0x2872d681e10>,\n",
       " <matplotlib.lines.Line2D at 0x2872d681fd0>,\n",
       " <matplotlib.lines.Line2D at 0x2872d688240>,\n",
       " <matplotlib.lines.Line2D at 0x2872d688438>,\n",
       " <matplotlib.lines.Line2D at 0x2872d688630>,\n",
       " <matplotlib.lines.Line2D at 0x2872d688828>,\n",
       " <matplotlib.lines.Line2D at 0x2872d688a20>,\n",
       " <matplotlib.lines.Line2D at 0x2872d688c18>,\n",
       " <matplotlib.lines.Line2D at 0x2872d688e10>,\n",
       " <matplotlib.lines.Line2D at 0x2872d688fd0>,\n",
       " <matplotlib.lines.Line2D at 0x2872d68c240>,\n",
       " <matplotlib.lines.Line2D at 0x2872d68c438>,\n",
       " <matplotlib.lines.Line2D at 0x2872d68c630>,\n",
       " <matplotlib.lines.Line2D at 0x2872d68c828>,\n",
       " <matplotlib.lines.Line2D at 0x2872d68ca20>,\n",
       " <matplotlib.lines.Line2D at 0x2872d68cc18>,\n",
       " <matplotlib.lines.Line2D at 0x2872d68ce10>,\n",
       " <matplotlib.lines.Line2D at 0x2872d68cfd0>,\n",
       " <matplotlib.lines.Line2D at 0x2872d692240>,\n",
       " <matplotlib.lines.Line2D at 0x2872d692438>,\n",
       " <matplotlib.lines.Line2D at 0x2872d692630>,\n",
       " <matplotlib.lines.Line2D at 0x2872d692828>,\n",
       " <matplotlib.lines.Line2D at 0x2872d692a20>,\n",
       " <matplotlib.lines.Line2D at 0x2872d692c18>,\n",
       " <matplotlib.lines.Line2D at 0x2872d692e10>,\n",
       " <matplotlib.lines.Line2D at 0x2872d692fd0>,\n",
       " <matplotlib.lines.Line2D at 0x2872d698240>,\n",
       " <matplotlib.lines.Line2D at 0x2872d698438>,\n",
       " <matplotlib.lines.Line2D at 0x2872d698630>,\n",
       " <matplotlib.lines.Line2D at 0x2872d698828>,\n",
       " <matplotlib.lines.Line2D at 0x2872d698a20>,\n",
       " <matplotlib.lines.Line2D at 0x2872d698c18>,\n",
       " <matplotlib.lines.Line2D at 0x2872d698e10>]"
      ]
     },
     "execution_count": 51,
     "metadata": {},
     "output_type": "execute_result"
    },
    {
     "data": {
      "image/png": "[encoded data removed]",
      "text/plain": [
       "<matplotlib.figure.Figure at 0x28727d15cf8>"
      ]
     },
     "metadata": {},
     "output_type": "display_data"
    }
   ],
   "source": [
    "plt.plot(traning_data)"
   ]
  },
  {
   "cell_type": "code",
   "execution_count": 89,
   "metadata": {},
   "outputs": [],
   "source": [
    "traning_data = np.asarray(traning_data)#.reshape(present_char,unique_chars_length)"
   ]
  },
  {
   "cell_type": "code",
   "execution_count": 29,
   "metadata": {},
   "outputs": [],
   "source": [
    "#model parameters"
   ]
  },
  {
   "cell_type": "code",
   "execution_count": 146,
   "metadata": {
    "collapsed": true
   },
   "outputs": [],
   "source": [
    "learning_rate = 0.0001\n",
    "num_neurons = 81\n",
    "iterations = 1000\n",
    "batch_size = 10\n",
    "input_size =81\n",
    "output_size = 81\n",
    "series_length = 30\n",
    "# present_char = len(data)\n",
    "# unique_chars_length = len(chars)"
   ]
  },
  {
   "cell_type": "code",
   "execution_count": 147,
   "metadata": {
    "collapsed": true
   },
   "outputs": [],
   "source": [
    "tf.reset_default_graph()"
   ]
  },
  {
   "cell_type": "code",
   "execution_count": 148,
   "metadata": {},
   "outputs": [],
   "source": [
    "X = tf.placeholder(shape = [None,series_length,input_size],dtype = tf.float32)"
   ]
  },
  {
   "cell_type": "code",
   "execution_count": 149,
   "metadata": {
    "collapsed": true
   },
   "outputs": [],
   "source": [
    "y = tf.placeholder(shape = [None,series_length,output_size],dtype = tf.float32)"
   ]
  },
  {
   "cell_type": "code",
   "execution_count": 150,
   "metadata": {},
   "outputs": [],
   "source": [
    "cells = tf.contrib.rnn.OutputProjectionWrapper(tf.contrib.rnn.BasicRNNCell(num_units = num_neurons,activation = tf.nn.tanh),output_size = output_size)"
   ]
  },
  {
   "cell_type": "code",
   "execution_count": 151,
   "metadata": {},
   "outputs": [],
   "source": [
    "outputs, states = tf.nn.dynamic_rnn(cells,X,dtype = tf.float32)"
   ]
  },
  {
   "cell_type": "code",
   "execution_count": 152,
   "metadata": {
    "collapsed": true
   },
   "outputs": [],
   "source": [
    "reduce_mean = tf.reduce_mean(tf.square(outputs - y))"
   ]
  },
  {
   "cell_type": "code",
   "execution_count": 153,
   "metadata": {
    "collapsed": true
   },
   "outputs": [],
   "source": [
    "optimize = tf.train.AdamOptimizer(learning_rate = learning_rate)"
   ]
  },
  {
   "cell_type": "code",
   "execution_count": 154,
   "metadata": {
    "collapsed": true
   },
   "outputs": [],
   "source": [
    "train = optimize.minimize(reduce_mean)"
   ]
  },
  {
   "cell_type": "code",
   "execution_count": 155,
   "metadata": {
    "collapsed": true
   },
   "outputs": [],
   "source": [
    "saver = tf.train.Saver()"
   ]
  },
  {
   "cell_type": "code",
   "execution_count": 156,
   "metadata": {
    "collapsed": true
   },
   "outputs": [],
   "source": [
    "init = tf.global_variables_initializer()"
   ]
  },
  {
   "cell_type": "code",
   "execution_count": 157,
   "metadata": {
    "collapsed": true
   },
   "outputs": [],
   "source": [
    "def get_next_batch():\n",
    "    random_char =  random.choice(range(0,len(data)-(series_length-1)))\n",
    "    x_batch_data = traning_data[random_char:random_char+series_length]\n",
    "    y_batch_data = traning_data[random_char+1:random_char+series_length+1]\n",
    "    return np.asarray(x_batch_data).reshape(-1,series_length,input_size), np.asarray(y_batch_data).reshape(-1,series_length,output_size)"
   ]
  },
  {
   "cell_type": "code",
   "execution_count": 158,
   "metadata": {},
   "outputs": [
    {
     "name": "stdout",
     "output_type": "stream",
     "text": [
      "0 \tmse 0.031043213\n",
      "100 \tmse 0.023328885\n",
      "200 \tmse 0.019350136\n",
      "300 \tmse 0.016140712\n",
      "400 \tmse 0.015186316\n",
      "500 \tmse 0.013594231\n",
      "600 \tmse 0.013277956\n",
      "700 \tmse 0.012701958\n",
      "800 \tmse 0.013429612\n",
      "900 \tmse 0.011971306\n"
     ]
    }
   ],
   "source": [
    "with tf.Session() as sess:\n",
    "    sess.run(init)\n",
    "    for iteration in range(iterations): \n",
    "        x_batch, y_batch = get_next_batch()\n",
    "        sess.run(train,feed_dict ={X:x_batch,y: y_batch})\n",
    "        if iteration%100 == 0:\n",
    "            mse = reduce_mean.eval(feed_dict = {X:x_batch,y:y_batch})\n",
    "            print(iteration,\"\\tmse\",mse)\n",
    "        saver.save(sess,\"./word_pred_demo\")"
   ]
  },
  {
   "cell_type": "code",
   "execution_count": 159,
   "metadata": {},
   "outputs": [],
   "source": [
    "test_inst = \"this is my life song. taking ba\"\n",
    "test_data = []"
   ]
  },
  {
   "cell_type": "code",
   "execution_count": 160,
   "metadata": {},
   "outputs": [],
   "source": [
    "for test in test_inst:\n",
    "    test_data.append(one_hot_encoder(test))\n",
    "    "
   ]
  },
  {
   "cell_type": "code",
   "execution_count": 161,
   "metadata": {},
   "outputs": [],
   "source": [
    "x_test_data = test_data[0:30]\n",
    "y_true = test_data[1:31]\n",
    "x_test = np.asarray(x_test_data).reshape(-1,30,81)\n",
    "y_test = np.asarray(y_true).reshape(-1,30,81)"
   ]
  },
  {
   "cell_type": "code",
   "execution_count": 162,
   "metadata": {},
   "outputs": [
    {
     "name": "stdout",
     "output_type": "stream",
     "text": [
      "INFO:tensorflow:Restoring parameters from ./word_pred_demo\n"
     ]
    }
   ],
   "source": [
    "with tf.Session() as sess:\n",
    "    saver.restore(sess,\"./word_pred_demo\")\n",
    "    y_pred = sess.run(outputs,feed_dict = {X: x_test})"
   ]
  },
  {
   "cell_type": "code",
   "execution_count": 185,
   "metadata": {},
   "outputs": [
    {
     "name": "stdout",
     "output_type": "stream",
     "text": [
      "1\n"
     ]
    }
   ],
   "source": [
    "m = list(y_pred[0])\n",
    "ele = max(m[1])\n",
    "index = list(m[1]).index(ele)\n",
    "print(index)"
   ]
  },
  {
   "cell_type": "code",
   "execution_count": 189,
   "metadata": {},
   "outputs": [
    {
     "data": {
      "text/plain": [
       "58"
      ]
     },
     "execution_count": 189,
     "metadata": {},
     "output_type": "execute_result"
    }
   ],
   "source": [
    "list(y_test[0][1]).index(1)"
   ]
  },
  {
   "cell_type": "code",
   "execution_count": 188,
   "metadata": {},
   "outputs": [
    {
     "data": {
      "text/plain": [
       "array([0., 0., 0., 0., 0., 0., 0., 0., 0., 0., 0., 0., 0., 0., 0., 0., 0.,\n",
       "       0., 0., 0., 0., 0., 0., 0., 0., 0., 0., 0., 0., 0., 0., 0., 0., 0.,\n",
       "       0., 0., 0., 0., 0., 0., 0., 0., 0., 0., 0., 0., 0., 0., 0., 0., 0.,\n",
       "       0., 0., 0., 0., 0., 0., 0., 1., 0., 0., 0., 0., 0., 0., 0., 0., 0.,\n",
       "       0., 0., 0., 0., 0., 0., 0., 0., 0., 0., 0., 0., 0.])"
      ]
     },
     "execution_count": 188,
     "metadata": {},
     "output_type": "execute_result"
    }
   ],
   "source": [
    "y_test[0][1]"
   ]
  },
  {
   "cell_type": "code",
   "execution_count": 190,
   "metadata": {},
   "outputs": [
    {
     "name": "stdout",
     "output_type": "stream",
     "text": [
      "e i\n"
     ]
    }
   ],
   "source": [
    "print(id_2_char[1],id_2_char[58])"
   ]
  },
  {
   "cell_type": "code",
   "execution_count": 198,
   "metadata": {},
   "outputs": [],
   "source": [
    "arr  =list(x_test[0][0]).index(1)\n"
   ]
  },
  {
   "cell_type": "code",
   "execution_count": 199,
   "metadata": {},
   "outputs": [
    {
     "name": "stdout",
     "output_type": "stream",
     "text": [
      "t\n"
     ]
    }
   ],
   "source": [
    "print(id_2_char[arr])"
   ]
  },
  {
   "cell_type": "code",
   "execution_count": null,
   "metadata": {
    "collapsed": true
   },
   "outputs": [],
   "source": []
  }
 ],
 "metadata": {
  "kernelspec": {
   "display_name": "Python 3",
   "language": "python",
   "name": "python3"
  },
  "language_info": {
   "codemirror_mode": {
    "name": "ipython",
    "version": 3
   },
   "file_extension": ".py",
   "mimetype": "text/x-python",
   "name": "python",
   "nbconvert_exporter": "python",
   "pygments_lexer": "ipython3",
   "version": "3.6.1"
  }
 },
 "nbformat": 4,
 "nbformat_minor": 2
}
